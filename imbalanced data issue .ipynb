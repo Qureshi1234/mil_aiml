{
 "cells": [
  {
   "cell_type": "code",
   "execution_count": 1,
   "id": "0fdffc79",
   "metadata": {},
   "outputs": [],
   "source": [
    "import pandas as pd"
   ]
  },
  {
   "cell_type": "code",
   "execution_count": 2,
   "id": "b8f87f8f",
   "metadata": {},
   "outputs": [],
   "source": [
    "import pandas as pd\n",
    "df = pd.read_csv('https://raw.githubusercontent.com/Qureshi1234/mit_aiml/main/sales_data.csv')"
   ]
  },
  {
   "cell_type": "code",
   "execution_count": 3,
   "id": "bd70a0dd",
   "metadata": {},
   "outputs": [
    {
     "data": {
      "text/html": [
       "<div>\n",
       "<style scoped>\n",
       "    .dataframe tbody tr th:only-of-type {\n",
       "        vertical-align: middle;\n",
       "    }\n",
       "\n",
       "    .dataframe tbody tr th {\n",
       "        vertical-align: top;\n",
       "    }\n",
       "\n",
       "    .dataframe thead th {\n",
       "        text-align: right;\n",
       "    }\n",
       "</style>\n",
       "<table border=\"1\" class=\"dataframe\">\n",
       "  <thead>\n",
       "    <tr style=\"text-align: right;\">\n",
       "      <th></th>\n",
       "      <th>time_on_page</th>\n",
       "      <th>pages_viewed</th>\n",
       "      <th>interest_ski</th>\n",
       "      <th>interest_climb</th>\n",
       "      <th>buy</th>\n",
       "    </tr>\n",
       "  </thead>\n",
       "  <tbody>\n",
       "    <tr>\n",
       "      <th>0</th>\n",
       "      <td>282.0</td>\n",
       "      <td>3.0</td>\n",
       "      <td>0</td>\n",
       "      <td>1</td>\n",
       "      <td>1</td>\n",
       "    </tr>\n",
       "    <tr>\n",
       "      <th>1</th>\n",
       "      <td>223.0</td>\n",
       "      <td>3.0</td>\n",
       "      <td>0</td>\n",
       "      <td>1</td>\n",
       "      <td>1</td>\n",
       "    </tr>\n",
       "    <tr>\n",
       "      <th>2</th>\n",
       "      <td>285.0</td>\n",
       "      <td>3.0</td>\n",
       "      <td>1</td>\n",
       "      <td>1</td>\n",
       "      <td>1</td>\n",
       "    </tr>\n",
       "    <tr>\n",
       "      <th>3</th>\n",
       "      <td>250.0</td>\n",
       "      <td>3.0</td>\n",
       "      <td>0</td>\n",
       "      <td>1</td>\n",
       "      <td>1</td>\n",
       "    </tr>\n",
       "    <tr>\n",
       "      <th>4</th>\n",
       "      <td>271.0</td>\n",
       "      <td>2.0</td>\n",
       "      <td>1</td>\n",
       "      <td>1</td>\n",
       "      <td>1</td>\n",
       "    </tr>\n",
       "    <tr>\n",
       "      <th>...</th>\n",
       "      <td>...</td>\n",
       "      <td>...</td>\n",
       "      <td>...</td>\n",
       "      <td>...</td>\n",
       "      <td>...</td>\n",
       "    </tr>\n",
       "    <tr>\n",
       "      <th>995</th>\n",
       "      <td>171.0</td>\n",
       "      <td>2.0</td>\n",
       "      <td>0</td>\n",
       "      <td>0</td>\n",
       "      <td>0</td>\n",
       "    </tr>\n",
       "    <tr>\n",
       "      <th>996</th>\n",
       "      <td>101.0</td>\n",
       "      <td>2.0</td>\n",
       "      <td>1</td>\n",
       "      <td>1</td>\n",
       "      <td>0</td>\n",
       "    </tr>\n",
       "    <tr>\n",
       "      <th>997</th>\n",
       "      <td>260.0</td>\n",
       "      <td>3.0</td>\n",
       "      <td>0</td>\n",
       "      <td>0</td>\n",
       "      <td>0</td>\n",
       "    </tr>\n",
       "    <tr>\n",
       "      <th>998</th>\n",
       "      <td>208.0</td>\n",
       "      <td>3.0</td>\n",
       "      <td>0</td>\n",
       "      <td>1</td>\n",
       "      <td>0</td>\n",
       "    </tr>\n",
       "    <tr>\n",
       "      <th>999</th>\n",
       "      <td>134.0</td>\n",
       "      <td>2.0</td>\n",
       "      <td>0</td>\n",
       "      <td>1</td>\n",
       "      <td>0</td>\n",
       "    </tr>\n",
       "  </tbody>\n",
       "</table>\n",
       "<p>1000 rows × 5 columns</p>\n",
       "</div>"
      ],
      "text/plain": [
       "     time_on_page  pages_viewed  interest_ski  interest_climb  buy\n",
       "0           282.0           3.0             0               1    1\n",
       "1           223.0           3.0             0               1    1\n",
       "2           285.0           3.0             1               1    1\n",
       "3           250.0           3.0             0               1    1\n",
       "4           271.0           2.0             1               1    1\n",
       "..            ...           ...           ...             ...  ...\n",
       "995         171.0           2.0             0               0    0\n",
       "996         101.0           2.0             1               1    0\n",
       "997         260.0           3.0             0               0    0\n",
       "998         208.0           3.0             0               1    0\n",
       "999         134.0           2.0             0               1    0\n",
       "\n",
       "[1000 rows x 5 columns]"
      ]
     },
     "execution_count": 3,
     "metadata": {},
     "output_type": "execute_result"
    }
   ],
   "source": [
    "df"
   ]
  },
  {
   "cell_type": "code",
   "execution_count": 4,
   "id": "20d7265c",
   "metadata": {},
   "outputs": [
    {
     "data": {
      "text/plain": [
       "0    950\n",
       "1     50\n",
       "Name: buy, dtype: int64"
      ]
     },
     "execution_count": 4,
     "metadata": {},
     "output_type": "execute_result"
    }
   ],
   "source": [
    "df['buy'].value_counts()"
   ]
  },
  {
   "cell_type": "code",
   "execution_count": 5,
   "id": "324753ed",
   "metadata": {},
   "outputs": [
    {
     "data": {
      "text/plain": [
       "<AxesSubplot:xlabel='buy'>"
      ]
     },
     "execution_count": 5,
     "metadata": {},
     "output_type": "execute_result"
    },
    {
     "data": {
      "image/png": "[encoded data removed]",
      "text/plain": [
       "<Figure size 432x288 with 1 Axes>"
      ]
     },
     "metadata": {
      "needs_background": "light"
     },
     "output_type": "display_data"
    }
   ],
   "source": [
    "df.pivot_table(index = 'buy', aggfunc = 'size').plot(kind = 'bar')"
   ]
  },
  {
   "cell_type": "code",
   "execution_count": null,
   "id": "c8a25666",
   "metadata": {},
   "outputs": [],
   "source": [
    "# we clearly see that there are a lot of non buyers against a small number of buyers."
   ]
  },
  {
   "cell_type": "code",
   "execution_count": 6,
   "id": "5339e291",
   "metadata": {},
   "outputs": [],
   "source": [
    "# to model your data: \n",
    "# SPLIT THE DATA into Training and Testing\n",
    "# training and testing dataset: \n",
    "from sklearn.model_selection import train_test_split"
   ]
  },
  {
   "cell_type": "code",
   "execution_count": 7,
   "id": "059e2512",
   "metadata": {},
   "outputs": [],
   "source": [
    "train, test = train_test_split(df, test_size = 0.3)"
   ]
  },
  {
   "cell_type": "code",
   "execution_count": 13,
   "id": "ab74c2e5",
   "metadata": {},
   "outputs": [
    {
     "data": {
      "text/html": [
       "<div>\n",
       "<style scoped>\n",
       "    .dataframe tbody tr th:only-of-type {\n",
       "        vertical-align: middle;\n",
       "    }\n",
       "\n",
       "    .dataframe tbody tr th {\n",
       "        vertical-align: top;\n",
       "    }\n",
       "\n",
       "    .dataframe thead th {\n",
       "        text-align: right;\n",
       "    }\n",
       "</style>\n",
       "<table border=\"1\" class=\"dataframe\">\n",
       "  <thead>\n",
       "    <tr style=\"text-align: right;\">\n",
       "      <th></th>\n",
       "      <th>time_on_page</th>\n",
       "      <th>pages_viewed</th>\n",
       "      <th>interest_ski</th>\n",
       "      <th>interest_climb</th>\n",
       "      <th>buy</th>\n",
       "    </tr>\n",
       "  </thead>\n",
       "  <tbody>\n",
       "    <tr>\n",
       "      <th>count</th>\n",
       "      <td>300.000000</td>\n",
       "      <td>300.000000</td>\n",
       "      <td>300.000000</td>\n",
       "      <td>300.000000</td>\n",
       "      <td>300.000000</td>\n",
       "    </tr>\n",
       "    <tr>\n",
       "      <th>mean</th>\n",
       "      <td>181.920000</td>\n",
       "      <td>1.973333</td>\n",
       "      <td>0.363333</td>\n",
       "      <td>0.396667</td>\n",
       "      <td>0.036667</td>\n",
       "    </tr>\n",
       "    <tr>\n",
       "      <th>std</th>\n",
       "      <td>64.420392</td>\n",
       "      <td>0.541850</td>\n",
       "      <td>0.481763</td>\n",
       "      <td>0.490023</td>\n",
       "      <td>0.188256</td>\n",
       "    </tr>\n",
       "    <tr>\n",
       "      <th>min</th>\n",
       "      <td>-34.000000</td>\n",
       "      <td>1.000000</td>\n",
       "      <td>0.000000</td>\n",
       "      <td>0.000000</td>\n",
       "      <td>0.000000</td>\n",
       "    </tr>\n",
       "    <tr>\n",
       "      <th>25%</th>\n",
       "      <td>145.750000</td>\n",
       "      <td>2.000000</td>\n",
       "      <td>0.000000</td>\n",
       "      <td>0.000000</td>\n",
       "      <td>0.000000</td>\n",
       "    </tr>\n",
       "    <tr>\n",
       "      <th>50%</th>\n",
       "      <td>182.500000</td>\n",
       "      <td>2.000000</td>\n",
       "      <td>0.000000</td>\n",
       "      <td>0.000000</td>\n",
       "      <td>0.000000</td>\n",
       "    </tr>\n",
       "    <tr>\n",
       "      <th>75%</th>\n",
       "      <td>220.000000</td>\n",
       "      <td>2.000000</td>\n",
       "      <td>1.000000</td>\n",
       "      <td>1.000000</td>\n",
       "      <td>0.000000</td>\n",
       "    </tr>\n",
       "    <tr>\n",
       "      <th>max</th>\n",
       "      <td>403.000000</td>\n",
       "      <td>4.000000</td>\n",
       "      <td>1.000000</td>\n",
       "      <td>1.000000</td>\n",
       "      <td>1.000000</td>\n",
       "    </tr>\n",
       "  </tbody>\n",
       "</table>\n",
       "</div>"
      ],
      "text/plain": [
       "       time_on_page  pages_viewed  interest_ski  interest_climb         buy\n",
       "count    300.000000    300.000000    300.000000      300.000000  300.000000\n",
       "mean     181.920000      1.973333      0.363333        0.396667    0.036667\n",
       "std       64.420392      0.541850      0.481763        0.490023    0.188256\n",
       "min      -34.000000      1.000000      0.000000        0.000000    0.000000\n",
       "25%      145.750000      2.000000      0.000000        0.000000    0.000000\n",
       "50%      182.500000      2.000000      0.000000        0.000000    0.000000\n",
       "75%      220.000000      2.000000      1.000000        1.000000    0.000000\n",
       "max      403.000000      4.000000      1.000000        1.000000    1.000000"
      ]
     },
     "execution_count": 13,
     "metadata": {},
     "output_type": "execute_result"
    }
   ],
   "source": [
    "test.describe()  # 30% of information randomly assigned into testing dataset"
   ]
  },
  {
   "cell_type": "code",
   "execution_count": 14,
   "id": "815201c1",
   "metadata": {},
   "outputs": [
    {
     "data": {
      "text/html": [
       "<div>\n",
       "<style scoped>\n",
       "    .dataframe tbody tr th:only-of-type {\n",
       "        vertical-align: middle;\n",
       "    }\n",
       "\n",
       "    .dataframe tbody tr th {\n",
       "        vertical-align: top;\n",
       "    }\n",
       "\n",
       "    .dataframe thead th {\n",
       "        text-align: right;\n",
       "    }\n",
       "</style>\n",
       "<table border=\"1\" class=\"dataframe\">\n",
       "  <thead>\n",
       "    <tr style=\"text-align: right;\">\n",
       "      <th></th>\n",
       "      <th>time_on_page</th>\n",
       "      <th>pages_viewed</th>\n",
       "      <th>interest_ski</th>\n",
       "      <th>interest_climb</th>\n",
       "      <th>buy</th>\n",
       "    </tr>\n",
       "  </thead>\n",
       "  <tbody>\n",
       "    <tr>\n",
       "      <th>count</th>\n",
       "      <td>700.000000</td>\n",
       "      <td>700.000000</td>\n",
       "      <td>700.000000</td>\n",
       "      <td>700.000000</td>\n",
       "      <td>700.000000</td>\n",
       "    </tr>\n",
       "    <tr>\n",
       "      <th>mean</th>\n",
       "      <td>181.548571</td>\n",
       "      <td>2.042857</td>\n",
       "      <td>0.380000</td>\n",
       "      <td>0.394286</td>\n",
       "      <td>0.055714</td>\n",
       "    </tr>\n",
       "    <tr>\n",
       "      <th>std</th>\n",
       "      <td>61.567755</td>\n",
       "      <td>0.642681</td>\n",
       "      <td>0.485734</td>\n",
       "      <td>0.489046</td>\n",
       "      <td>0.229533</td>\n",
       "    </tr>\n",
       "    <tr>\n",
       "      <th>min</th>\n",
       "      <td>5.000000</td>\n",
       "      <td>-0.000000</td>\n",
       "      <td>0.000000</td>\n",
       "      <td>0.000000</td>\n",
       "      <td>0.000000</td>\n",
       "    </tr>\n",
       "    <tr>\n",
       "      <th>25%</th>\n",
       "      <td>143.000000</td>\n",
       "      <td>2.000000</td>\n",
       "      <td>0.000000</td>\n",
       "      <td>0.000000</td>\n",
       "      <td>0.000000</td>\n",
       "    </tr>\n",
       "    <tr>\n",
       "      <th>50%</th>\n",
       "      <td>179.000000</td>\n",
       "      <td>2.000000</td>\n",
       "      <td>0.000000</td>\n",
       "      <td>0.000000</td>\n",
       "      <td>0.000000</td>\n",
       "    </tr>\n",
       "    <tr>\n",
       "      <th>75%</th>\n",
       "      <td>221.000000</td>\n",
       "      <td>2.000000</td>\n",
       "      <td>1.000000</td>\n",
       "      <td>1.000000</td>\n",
       "      <td>0.000000</td>\n",
       "    </tr>\n",
       "    <tr>\n",
       "      <th>max</th>\n",
       "      <td>439.000000</td>\n",
       "      <td>4.000000</td>\n",
       "      <td>1.000000</td>\n",
       "      <td>1.000000</td>\n",
       "      <td>1.000000</td>\n",
       "    </tr>\n",
       "  </tbody>\n",
       "</table>\n",
       "</div>"
      ],
      "text/plain": [
       "       time_on_page  pages_viewed  interest_ski  interest_climb         buy\n",
       "count    700.000000    700.000000    700.000000      700.000000  700.000000\n",
       "mean     181.548571      2.042857      0.380000        0.394286    0.055714\n",
       "std       61.567755      0.642681      0.485734        0.489046    0.229533\n",
       "min        5.000000     -0.000000      0.000000        0.000000    0.000000\n",
       "25%      143.000000      2.000000      0.000000        0.000000    0.000000\n",
       "50%      179.000000      2.000000      0.000000        0.000000    0.000000\n",
       "75%      221.000000      2.000000      1.000000        1.000000    0.000000\n",
       "max      439.000000      4.000000      1.000000        1.000000    1.000000"
      ]
     },
     "execution_count": 14,
     "metadata": {},
     "output_type": "execute_result"
    }
   ],
   "source": [
    "train.describe() # 70% of information randomly assigned into training dataset"
   ]
  },
  {
   "cell_type": "code",
   "execution_count": 15,
   "id": "dee3b2a3",
   "metadata": {},
   "outputs": [
    {
     "data": {
      "text/plain": [
       "0    661\n",
       "1     39\n",
       "Name: buy, dtype: int64"
      ]
     },
     "execution_count": 15,
     "metadata": {},
     "output_type": "execute_result"
    }
   ],
   "source": [
    "train['buy'].value_counts()"
   ]
  },
  {
   "cell_type": "code",
   "execution_count": 16,
   "id": "26446e31",
   "metadata": {},
   "outputs": [
    {
     "data": {
      "text/plain": [
       "0.9442857142857143"
      ]
     },
     "execution_count": 16,
     "metadata": {},
     "output_type": "execute_result"
    }
   ],
   "source": [
    "661/700  # percentage of non buying "
   ]
  },
  {
   "cell_type": "code",
   "execution_count": 17,
   "id": "eeb60821",
   "metadata": {},
   "outputs": [
    {
     "data": {
      "text/plain": [
       "0.055714285714285716"
      ]
     },
     "execution_count": 17,
     "metadata": {},
     "output_type": "execute_result"
    }
   ],
   "source": [
    "39/700  # percentage of buying "
   ]
  },
  {
   "cell_type": "code",
   "execution_count": null,
   "id": "4a28b3d1",
   "metadata": {},
   "outputs": [],
   "source": [
    "# big issue in forcasting power of the model"
   ]
  },
  {
   "cell_type": "code",
   "execution_count": 18,
   "id": "a8691a6a",
   "metadata": {},
   "outputs": [],
   "source": [
    "from sklearn.linear_model import LogisticRegression"
   ]
  },
  {
   "cell_type": "code",
   "execution_count": 19,
   "id": "393ba5e0",
   "metadata": {},
   "outputs": [],
   "source": [
    "lg = LogisticRegression()"
   ]
  },
  {
   "cell_type": "code",
   "execution_count": 20,
   "id": "2c9cdeec",
   "metadata": {},
   "outputs": [
    {
     "data": {
      "text/plain": [
       "LogisticRegression()"
      ]
     },
     "execution_count": 20,
     "metadata": {},
     "output_type": "execute_result"
    }
   ],
   "source": [
    "lg.fit(train[['time_on_page','pages_viewed','interest_ski', 'interest_climb']], train['buy'])"
   ]
  },
  {
   "cell_type": "code",
   "execution_count": 21,
   "id": "b3d6ed7f",
   "metadata": {},
   "outputs": [],
   "source": [
    "pred = lg.predict(test[['time_on_page','pages_viewed','interest_ski', 'interest_climb']])"
   ]
  },
  {
   "cell_type": "code",
   "execution_count": 22,
   "id": "e08a23e3",
   "metadata": {},
   "outputs": [],
   "source": [
    "from sklearn.metrics import confusion_matrix"
   ]
  },
  {
   "cell_type": "code",
   "execution_count": 23,
   "id": "939a6475",
   "metadata": {},
   "outputs": [],
   "source": [
    "from sklearn.metrics import classification_report"
   ]
  },
  {
   "cell_type": "code",
   "execution_count": null,
   "id": "814ef654",
   "metadata": {},
   "outputs": [],
   "source": [
    "# imbalanced dataset\n",
    "# mainly two way to solve this: \n",
    "\n",
    "# method1: \n",
    "    # undersampling: \n",
    "            0    950\n",
    "            1     50\n",
    "            \n",
    "    # we take only 50 observations for every single category: \n",
    "    \n",
    "            0    50\n",
    "            1    50\n",
    "            \n",
    "# we are actually excluding majority of the dataset from actual data:  90% of observations excluded\n",
    "    \n",
    "# method2: \n",
    "    # oversampling: \n",
    "            0    950\n",
    "            1     50\n",
    "            \n",
    "    # we take maximum observations for every single category: \n",
    "            0    950\n",
    "            1    950     \n",
    "            \n",
    "# we are actually not excluding any observations from the actual dataset:  1900 observation\n",
    "\n",
    "# issue: \n",
    "    # there are too many duplicates in one category: \n",
    "        # every single record in buy behaviour are duplicates 19 times\n",
    "        \n",
    "        \n",
    "# based on second method: \n",
    "\n",
    "    # one better approach was discussed among statisticians: \n",
    "        # SMOTE: \n",
    "        \n",
    "        \n",
    "        # WE Create oversampling without duplicates: \n",
    "        # powerfull solution for imbalanced data: \n",
    "        \n",
    "        \n",
    "# SMOTE: Synthetic minority oversampling technique: knn model as input to create close dataset points in practice\n",
    "        # 2002: Artificial intelligence journal\n",
    "    \n",
    "    # Data Augmentation: \n",
    "                # much like oversampling: \n",
    "                # rather than making exact duplicates of observations, you will add small perturbations to copied data points\n",
    "        \n",
    "        # you will draw a random sample from the minority class\n",
    "                # knearest n\n",
    "        \n",
    "        \n",
    "        \n",
    "        "
   ]
  },
  {
   "cell_type": "code",
   "execution_count": null,
   "id": "e38c52b0",
   "metadata": {},
   "outputs": [],
   "source": [
    "# SMOTE with Logistic regression"
   ]
  },
  {
   "cell_type": "code",
   "execution_count": 25,
   "id": "5665c22f",
   "metadata": {
    "collapsed": true
   },
   "outputs": [
    {
     "name": "stdout",
     "output_type": "stream",
     "text": [
      "Collecting imblearn\n",
      "  Downloading imblearn-0.0-py2.py3-none-any.whl (1.9 kB)\n",
      "Collecting imbalanced-learn\n",
      "  Downloading imbalanced_learn-0.10.1-py3-none-any.whl (226 kB)\n",
      "Requirement already satisfied: numpy>=1.17.3 in c:\\users\\enasi\\anaconda3\\lib\\site-packages (from imbalanced-learn->imblearn) (1.21.5)\n",
      "Collecting joblib>=1.1.1\n",
      "  Downloading joblib-1.2.0-py3-none-any.whl (297 kB)\n",
      "Requirement already satisfied: scipy>=1.3.2 in c:\\users\\enasi\\anaconda3\\lib\\site-packages (from imbalanced-learn->imblearn) (1.7.3)\n",
      "Requirement already satisfied: threadpoolctl>=2.0.0 in c:\\users\\enasi\\anaconda3\\lib\\site-packages (from imbalanced-learn->imblearn) (2.2.0)\n",
      "Requirement already satisfied: scikit-learn>=1.0.2 in c:\\users\\enasi\\anaconda3\\lib\\site-packages (from imbalanced-learn->imblearn) (1.0.2)\n",
      "Installing collected packages: joblib, imbalanced-learn, imblearn\n",
      "  Attempting uninstall: joblib\n",
      "    Found existing installation: joblib 1.1.0\n",
      "    Uninstalling joblib-1.1.0:\n",
      "      Successfully uninstalled joblib-1.1.0\n",
      "Successfully installed imbalanced-learn-0.10.1 imblearn-0.0 joblib-1.2.0\n"
     ]
    },
    {
     "name": "stderr",
     "output_type": "stream",
     "text": [
      "ERROR: pip's dependency resolver does not currently take into account all the packages that are installed. This behaviour is the source of the following dependency conflicts.\n",
      "pandas-profiling 3.3.0 requires joblib~=1.1.0, but you have joblib 1.2.0 which is incompatible.\n"
     ]
    }
   ],
   "source": [
    "!pip install imblearn"
   ]
  },
  {
   "cell_type": "code",
   "execution_count": 27,
   "id": "ec5c6cac",
   "metadata": {},
   "outputs": [],
   "source": [
    "import imblearn"
   ]
  },
  {
   "cell_type": "code",
   "execution_count": 28,
   "id": "36c343a3",
   "metadata": {},
   "outputs": [
    {
     "name": "stdout",
     "output_type": "stream",
     "text": [
      "['FunctionSampler', 'LazyLoader', '__IMBLEARN_SETUP__', '__all__', '__builtins__', '__cached__', '__doc__', '__file__', '__loader__', '__name__', '__package__', '__path__', '__spec__', '__version__', '_version', 'base', 'combine', 'ensemble', 'exceptions', 'importlib', 'keras', 'metrics', 'over_sampling', 'pipeline', 'show_versions', 'sys', 'tensorflow', 'types', 'under_sampling', 'utils']\n"
     ]
    }
   ],
   "source": [
    "print(dir(imblearn))"
   ]
  },
  {
   "cell_type": "code",
   "execution_count": 29,
   "id": "963d9a04",
   "metadata": {},
   "outputs": [
    {
     "name": "stdout",
     "output_type": "stream",
     "text": [
      "['ADASYN', 'BorderlineSMOTE', 'KMeansSMOTE', 'RandomOverSampler', 'SMOTE', 'SMOTEN', 'SMOTENC', 'SVMSMOTE', '__all__', '__builtins__', '__cached__', '__doc__', '__file__', '__loader__', '__name__', '__package__', '__path__', '__spec__', '_adasyn', '_random_over_sampler', '_smote', 'base']\n"
     ]
    }
   ],
   "source": [
    "print(dir(imblearn.over_sampling))"
   ]
  },
  {
   "cell_type": "code",
   "execution_count": 30,
   "id": "5cc7c1d5",
   "metadata": {},
   "outputs": [],
   "source": [
    "from imblearn.over_sampling import SMOTE"
   ]
  },
  {
   "cell_type": "code",
   "execution_count": null,
   "id": "6d9a4cb9",
   "metadata": {},
   "outputs": [],
   "source": [
    "# REshape our data: into 950 observations of non buy and 950 observations of buy"
   ]
  },
  {
   "cell_type": "code",
   "execution_count": 31,
   "id": "0bd47f7c",
   "metadata": {},
   "outputs": [],
   "source": [
    "x_reshaped, y_reshaped = SMOTE().fit_resample(train[['time_on_page','pages_viewed','interest_ski', 'interest_climb']], train['buy'])"
   ]
  },
  {
   "cell_type": "code",
   "execution_count": 32,
   "id": "b13ad0af",
   "metadata": {},
   "outputs": [
    {
     "data": {
      "text/html": [
       "<div>\n",
       "<style scoped>\n",
       "    .dataframe tbody tr th:only-of-type {\n",
       "        vertical-align: middle;\n",
       "    }\n",
       "\n",
       "    .dataframe tbody tr th {\n",
       "        vertical-align: top;\n",
       "    }\n",
       "\n",
       "    .dataframe thead th {\n",
       "        text-align: right;\n",
       "    }\n",
       "</style>\n",
       "<table border=\"1\" class=\"dataframe\">\n",
       "  <thead>\n",
       "    <tr style=\"text-align: right;\">\n",
       "      <th></th>\n",
       "      <th>time_on_page</th>\n",
       "      <th>pages_viewed</th>\n",
       "      <th>interest_ski</th>\n",
       "      <th>interest_climb</th>\n",
       "    </tr>\n",
       "  </thead>\n",
       "  <tbody>\n",
       "    <tr>\n",
       "      <th>count</th>\n",
       "      <td>1322.000000</td>\n",
       "      <td>1322.000000</td>\n",
       "      <td>1322.000000</td>\n",
       "      <td>1322.000000</td>\n",
       "    </tr>\n",
       "    <tr>\n",
       "      <th>mean</th>\n",
       "      <td>212.075314</td>\n",
       "      <td>2.463837</td>\n",
       "      <td>0.340393</td>\n",
       "      <td>0.555976</td>\n",
       "    </tr>\n",
       "    <tr>\n",
       "      <th>std</th>\n",
       "      <td>68.899730</td>\n",
       "      <td>0.724514</td>\n",
       "      <td>0.474021</td>\n",
       "      <td>0.497045</td>\n",
       "    </tr>\n",
       "    <tr>\n",
       "      <th>min</th>\n",
       "      <td>5.000000</td>\n",
       "      <td>-0.000000</td>\n",
       "      <td>0.000000</td>\n",
       "      <td>0.000000</td>\n",
       "    </tr>\n",
       "    <tr>\n",
       "      <th>25%</th>\n",
       "      <td>165.000000</td>\n",
       "      <td>2.000000</td>\n",
       "      <td>0.000000</td>\n",
       "      <td>0.000000</td>\n",
       "    </tr>\n",
       "    <tr>\n",
       "      <th>50%</th>\n",
       "      <td>208.500000</td>\n",
       "      <td>2.425407</td>\n",
       "      <td>0.000000</td>\n",
       "      <td>1.000000</td>\n",
       "    </tr>\n",
       "    <tr>\n",
       "      <th>75%</th>\n",
       "      <td>259.868135</td>\n",
       "      <td>3.000000</td>\n",
       "      <td>1.000000</td>\n",
       "      <td>1.000000</td>\n",
       "    </tr>\n",
       "    <tr>\n",
       "      <th>max</th>\n",
       "      <td>439.000000</td>\n",
       "      <td>4.000000</td>\n",
       "      <td>1.000000</td>\n",
       "      <td>1.000000</td>\n",
       "    </tr>\n",
       "  </tbody>\n",
       "</table>\n",
       "</div>"
      ],
      "text/plain": [
       "       time_on_page  pages_viewed  interest_ski  interest_climb\n",
       "count   1322.000000   1322.000000   1322.000000     1322.000000\n",
       "mean     212.075314      2.463837      0.340393        0.555976\n",
       "std       68.899730      0.724514      0.474021        0.497045\n",
       "min        5.000000     -0.000000      0.000000        0.000000\n",
       "25%      165.000000      2.000000      0.000000        0.000000\n",
       "50%      208.500000      2.425407      0.000000        1.000000\n",
       "75%      259.868135      3.000000      1.000000        1.000000\n",
       "max      439.000000      4.000000      1.000000        1.000000"
      ]
     },
     "execution_count": 32,
     "metadata": {},
     "output_type": "execute_result"
    }
   ],
   "source": [
    "x_reshaped.describe()"
   ]
  },
  {
   "cell_type": "code",
   "execution_count": 33,
   "id": "d94e80a6",
   "metadata": {
    "scrolled": true
   },
   "outputs": [
    {
     "data": {
      "text/plain": [
       "count    1322.000000\n",
       "mean        0.500000\n",
       "std         0.500189\n",
       "min         0.000000\n",
       "25%         0.000000\n",
       "50%         0.500000\n",
       "75%         1.000000\n",
       "max         1.000000\n",
       "Name: buy, dtype: float64"
      ]
     },
     "execution_count": 33,
     "metadata": {},
     "output_type": "execute_result"
    }
   ],
   "source": [
    "y_reshaped.describe()"
   ]
  },
  {
   "cell_type": "code",
   "execution_count": 35,
   "id": "df0b1bd6",
   "metadata": {},
   "outputs": [
    {
     "data": {
      "text/plain": [
       "0    661\n",
       "1    661\n",
       "Name: buy, dtype: int64"
      ]
     },
     "execution_count": 35,
     "metadata": {},
     "output_type": "execute_result"
    }
   ],
   "source": [
    "y_reshaped.value_counts()"
   ]
  },
  {
   "cell_type": "code",
   "execution_count": 36,
   "id": "45719938",
   "metadata": {},
   "outputs": [],
   "source": [
    "logis = LogisticRegression()"
   ]
  },
  {
   "cell_type": "code",
   "execution_count": 37,
   "id": "d72ccabe",
   "metadata": {},
   "outputs": [
    {
     "data": {
      "text/plain": [
       "LogisticRegression()"
      ]
     },
     "execution_count": 37,
     "metadata": {},
     "output_type": "execute_result"
    }
   ],
   "source": [
    "logis.fit(x_reshaped, y_reshaped)"
   ]
  },
  {
   "cell_type": "code",
   "execution_count": 38,
   "id": "0aaff046",
   "metadata": {},
   "outputs": [],
   "source": [
    "pred2 = logis.predict(test[['time_on_page','pages_viewed','interest_ski', 'interest_climb']])"
   ]
  },
  {
   "cell_type": "code",
   "execution_count": null,
   "id": "f0341832",
   "metadata": {},
   "outputs": [],
   "source": []
  },
  {
   "cell_type": "code",
   "execution_count": null,
   "id": "6836486f",
   "metadata": {},
   "outputs": [],
   "source": []
  },
  {
   "cell_type": "code",
   "execution_count": 40,
   "id": "13aebdbd",
   "metadata": {},
   "outputs": [
    {
     "name": "stdout",
     "output_type": "stream",
     "text": [
      "              precision    recall  f1-score   support\n",
      "\n",
      "           0       0.99      0.89      0.94       289\n",
      "           1       0.23      0.82      0.35        11\n",
      "\n",
      "    accuracy                           0.89       300\n",
      "   macro avg       0.61      0.86      0.65       300\n",
      "weighted avg       0.96      0.89      0.92       300\n",
      "\n"
     ]
    }
   ],
   "source": [
    "print(classification_report(test['buy'], pred2))"
   ]
  },
  {
   "cell_type": "code",
   "execution_count": 24,
   "id": "8e06ab99",
   "metadata": {
    "scrolled": true
   },
   "outputs": [
    {
     "name": "stdout",
     "output_type": "stream",
     "text": [
      "              precision    recall  f1-score   support\n",
      "\n",
      "           0       0.98      0.99      0.99       289\n",
      "           1       0.67      0.55      0.60        11\n",
      "\n",
      "    accuracy                           0.97       300\n",
      "   macro avg       0.82      0.77      0.79       300\n",
      "weighted avg       0.97      0.97      0.97       300\n",
      "\n"
     ]
    }
   ],
   "source": [
    "print(classification_report(test['buy'], pred))"
   ]
  },
  {
   "cell_type": "code",
   "execution_count": 41,
   "id": "c4f6bd20",
   "metadata": {},
   "outputs": [],
   "source": [
    "# accuracy matrix\n",
    "\n",
    "from sklearn.metrics import confusion_matrix"
   ]
  },
  {
   "cell_type": "code",
   "execution_count": 43,
   "id": "e980af07",
   "metadata": {},
   "outputs": [],
   "source": [
    "tn1, fp1, fn1, tp1 = confusion_matrix(test['buy'], pred).ravel()"
   ]
  },
  {
   "cell_type": "code",
   "execution_count": 48,
   "id": "54b1a25a",
   "metadata": {},
   "outputs": [
    {
     "name": "stdout",
     "output_type": "stream",
     "text": [
      "True Negative: 286 \n",
      "False Negative:  5 \n",
      "False positive:  3 \n",
      "True Positive:   6\n"
     ]
    }
   ],
   "source": [
    "print('True Negative:',tn1, '\\nFalse Negative: ', fn1, '\\nFalse positive: ', fp1, '\\nTrue Positive:  ', tp1)"
   ]
  },
  {
   "cell_type": "code",
   "execution_count": 50,
   "id": "20b54800",
   "metadata": {},
   "outputs": [],
   "source": [
    "tn2, fp2, fn2, tp2 = confusion_matrix(test['buy'], pred2).ravel()"
   ]
  },
  {
   "cell_type": "code",
   "execution_count": 52,
   "id": "d706a3e1",
   "metadata": {
    "scrolled": true
   },
   "outputs": [
    {
     "name": "stdout",
     "output_type": "stream",
     "text": [
      "True Negative: 258 \n",
      "False Negative:  2 \n",
      "False positive: 31 \n",
      "True Positive:   9\n"
     ]
    }
   ],
   "source": [
    "print('True Negative:',tn2, '\\nFalse Negative: ', fn2, '\\nFalse positive:', fp2, '\\nTrue Positive:  ', tp2)"
   ]
  },
  {
   "attachments": {
    "image.png": {
     "image/png": "[encoded data removed]"
    }
   },
   "cell_type": "markdown",
   "id": "7de66c5d",
   "metadata": {},
   "source": [
    "![image.png](attachment:image.png)"
   ]
  },
  {
   "attachments": {
    "image.png": {
     "image/png": "[encoded data removed]"
    }
   },
   "cell_type": "markdown",
   "id": "56aea09a",
   "metadata": {},
   "source": [
    "![image.png](attachment:image.png)"
   ]
  },
  {
   "cell_type": "code",
   "execution_count": 53,
   "id": "5a7cead6",
   "metadata": {},
   "outputs": [
    {
     "data": {
      "text/plain": [
       "0    289\n",
       "1     11\n",
       "Name: buy, dtype: int64"
      ]
     },
     "execution_count": 53,
     "metadata": {},
     "output_type": "execute_result"
    }
   ],
   "source": [
    "test['buy'].value_counts()"
   ]
  },
  {
   "cell_type": "code",
   "execution_count": 54,
   "id": "eb76c061",
   "metadata": {},
   "outputs": [
    {
     "data": {
      "text/plain": [
       "0.8181818181818182"
      ]
     },
     "execution_count": 54,
     "metadata": {},
     "output_type": "execute_result"
    }
   ],
   "source": [
    "# for buying behaviour :\n",
    "\n",
    "9/11"
   ]
  },
  {
   "cell_type": "code",
   "execution_count": 55,
   "id": "2b6a3a30",
   "metadata": {},
   "outputs": [
    {
     "data": {
      "text/plain": [
       "0.5454545454545454"
      ]
     },
     "execution_count": 55,
     "metadata": {},
     "output_type": "execute_result"
    }
   ],
   "source": [
    "6/11"
   ]
  },
  {
   "cell_type": "code",
   "execution_count": 56,
   "id": "827b9f27",
   "metadata": {},
   "outputs": [
    {
     "data": {
      "text/plain": [
       "0.9896193771626297"
      ]
     },
     "execution_count": 56,
     "metadata": {},
     "output_type": "execute_result"
    }
   ],
   "source": [
    "286/289"
   ]
  },
  {
   "cell_type": "code",
   "execution_count": 57,
   "id": "f913cdee",
   "metadata": {},
   "outputs": [
    {
     "data": {
      "text/plain": [
       "0.8927335640138409"
      ]
     },
     "execution_count": 57,
     "metadata": {},
     "output_type": "execute_result"
    }
   ],
   "source": [
    "258/289"
   ]
  },
  {
   "cell_type": "code",
   "execution_count": null,
   "id": "9bcf6e79",
   "metadata": {},
   "outputs": [],
   "source": []
  },
  {
   "cell_type": "code",
   "execution_count": null,
   "id": "204fd659",
   "metadata": {},
   "outputs": [],
   "source": [
    "# TRUE POSITIVE: \n",
    "\n",
    "# BUY: 1: \n",
    "    # Imbalanced data: \n",
    "        # we only predicted buy: 6 only\n",
    "        # with the help of balance data approach: \n",
    "                # we were able to identify 3 more buy with SMOTE Analysis"
   ]
  }
 ],
 "metadata": {
  "kernelspec": {
   "display_name": "Python 3 (ipykernel)",
   "language": "python",
   "name": "python3"
  },
  "language_info": {
   "codemirror_mode": {
    "name": "ipython",
    "version": 3
   },
   "file_extension": ".py",
   "mimetype": "text/x-python",
   "name": "python",
   "nbconvert_exporter": "python",
   "pygments_lexer": "ipython3",
   "version": "3.9.12"
  }
 },
 "nbformat": 4,
 "nbformat_minor": 5
}
